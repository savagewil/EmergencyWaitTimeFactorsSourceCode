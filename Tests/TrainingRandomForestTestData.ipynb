{
 "cells": [
  {
   "cell_type": "code",
   "execution_count": 1,
   "outputs": [],
   "source": [
    "import pandas as pd\n",
    "from sklearn.ensemble import RandomForestRegressor\n",
    "from sklearn.metrics import mean_squared_error, mean_absolute_error\n",
    "import pickle\n",
    "from CorrectFeatures import correct_SCT_data, correct_SCT_labels\n",
    "import matplotlib.pyplot as plt\n"
   ],
   "metadata": {
    "collapsed": false,
    "pycharm": {
     "name": "#%%\n"
    }
   }
  },
  {
   "cell_type": "code",
   "execution_count": 2,
   "metadata": {
    "collapsed": true
   },
   "outputs": [],
   "source": [
    "data = pd.read_csv(\"TestData.csv\")"
   ]
  },
  {
   "cell_type": "code",
   "execution_count": 3,
   "outputs": [],
   "source": [
    "model_test_data = RandomForestRegressor(n_estimators=100, n_jobs=8)\n"
   ],
   "metadata": {
    "collapsed": false,
    "pycharm": {
     "name": "#%%\n"
    }
   }
  },
  {
   "cell_type": "markdown",
   "source": [],
   "metadata": {
    "collapsed": false
   }
  },
  {
   "cell_type": "code",
   "execution_count": 6,
   "outputs": [],
   "source": [
    "Y = data.Label"
   ],
   "metadata": {
    "collapsed": false,
    "pycharm": {
     "name": "#%%\n"
    }
   }
  },
  {
   "cell_type": "code",
   "execution_count": 5,
   "outputs": [],
   "source": [
    "# Y = training_labels.drop(columns = ['attendance', 'number_over_4_hours',\n",
    "#        'number_over_8_hours', 'percentage_within_8_hours',\n",
    "#        'number_over_12_hours', 'percentage_within_12_hours',\n",
    "#        'number_under_4_hours', 'number_4_hours_8_hours',\n",
    "#        'number_8_hours_12_hours', 'percentage_within_4_hours'])"
   ],
   "metadata": {
    "collapsed": false,
    "pycharm": {
     "name": "#%%\n"
    }
   }
  },
  {
   "cell_type": "code",
   "execution_count": 4,
   "outputs": [],
   "source": [
    "X = data.drop(columns=[\"Label\"])"
   ],
   "metadata": {
    "collapsed": false,
    "pycharm": {
     "name": "#%%\n"
    }
   }
  },
  {
   "cell_type": "code",
   "execution_count": 7,
   "outputs": [],
   "source": [
    "# X = training_data\n",
    "# X[\"region_east\"] = 1.0 *(X[\"region\"] == \"East\")\n",
    "# X[\"region_west\"] =  1.0 *(X[\"region\"] == \"West\")\n",
    "# X[\"region_north\"] =  1.0 *(X[\"region\"] == \"North\")\n",
    "# X = X.drop(columns=[\"region\", \"moon_phase_name\"])\n",
    "# for col in X.columns:\n",
    "#     X[col] = X[col].astype(str).str.replace(',', '').astype(float)\n",
    "#     if X[col].isna().any():\n",
    "#         X[col] = X[col].fillna(0)"
   ],
   "metadata": {
    "collapsed": false,
    "pycharm": {
     "name": "#%%\n"
    }
   }
  },
  {
   "cell_type": "code",
   "execution_count": 7,
   "outputs": [
    {
     "data": {
      "text/plain": "RandomForestRegressor(n_jobs=8)"
     },
     "execution_count": 7,
     "metadata": {},
     "output_type": "execute_result"
    }
   ],
   "source": [
    "model_test_data.fit(X,Y)"
   ],
   "metadata": {
    "collapsed": false,
    "pycharm": {
     "name": "#%%\n"
    }
   }
  },
  {
   "cell_type": "code",
   "execution_count": 8,
   "outputs": [
    {
     "data": {
      "text/plain": "0.05750136282493114"
     },
     "execution_count": 8,
     "metadata": {},
     "output_type": "execute_result"
    }
   ],
   "source": [
    "(mean_absolute_error(Y, model_test_data.predict(X)))"
   ],
   "metadata": {
    "collapsed": false,
    "pycharm": {
     "name": "#%%\n"
    }
   }
  },
  {
   "cell_type": "code",
   "execution_count": 11,
   "outputs": [],
   "source": [
    "# testing_data = correct_SCT_data(pd.read_csv(\"Data/Scotland/scottish_data_testing.csv\"))\n",
    "# testing_labels = correct_SCT_labels(pd.read_csv(\"Data/Scotland/scottish_labels_testing.csv\"))"
   ],
   "metadata": {
    "collapsed": false,
    "pycharm": {
     "name": "#%%\n"
    }
   }
  },
  {
   "cell_type": "code",
   "execution_count": 12,
   "outputs": [],
   "source": [
    "# X_test = testing_data\n",
    "# Y_test = testing_labels"
   ],
   "metadata": {
    "collapsed": false,
    "pycharm": {
     "name": "#%%\n"
    }
   }
  },
  {
   "cell_type": "code",
   "execution_count": null,
   "outputs": [],
   "source": [
    "# Y_test = testing_labels.drop(columns = ['attendance', 'number_over_4_hours',\n",
    "#        'number_over_8_hours', 'percentage_within_8_hours',\n",
    "#        'number_over_12_hours', 'percentage_within_12_hours',\n",
    "#        'number_under_4_hours', 'number_4_hours_8_hours',\n",
    "#        'number_8_hours_12_hours', 'percentage_within_4_hours'])\n",
    "# X_test = testing_data\n",
    "# X_test[\"region_east\"] = 1.0 *(X_test[\"region\"] == \"East\")\n",
    "# X_test[\"region_west\"] =  1.0 *(X_test[\"region\"] == \"West\")\n",
    "# X_test[\"region_north\"] =  1.0 *(X_test[\"region\"] == \"North\")\n",
    "# X_test = X_test.drop(columns=[\"region\", \"moon_phase_name\"])\n",
    "# for col in X_test.columns:\n",
    "#     X_test[col] = X_test[col].astype(str).str.replace(',', '').astype(float)\n",
    "#     if X_test[col].isna().any():\n",
    "#         X_test[col] = X_test[col].fillna(0)"
   ],
   "metadata": {
    "collapsed": false,
    "pycharm": {
     "name": "#%%\n"
    }
   }
  },
  {
   "cell_type": "code",
   "execution_count": 13,
   "outputs": [
    {
     "data": {
      "text/plain": "(0.03002327547311541,\n 0.025544762115306197,\n 0.0049747671691534896,\n 0.001811775446478096)"
     },
     "execution_count": 13,
     "metadata": {},
     "output_type": "execute_result"
    }
   ],
   "source": [
    "\n",
    "# (mean_absolute_error(Y_test.proportion_under_4_hours, model_4_hours.predict(X_test)),\n",
    "#  mean_absolute_error(Y_test.proportion_4_hours_8_hours, model_8_hours.predict(X_test)),\n",
    "#  mean_absolute_error(Y_test.proportion_8_hours_12_hours, model_12_hours.predict(X_test)),\n",
    "#  mean_absolute_error(Y_test.proportion_over_12_hours, model_long_hours.predict(X_test)))"
   ],
   "metadata": {
    "collapsed": false,
    "pycharm": {
     "name": "#%%\n"
    }
   }
  },
  {
   "cell_type": "code",
   "execution_count": null,
   "outputs": [],
   "source": [
    "# def divide_by_sum(tuple_):\n",
    "#     sum_ = sum(tuple_)\n",
    "#     return [e/sum_ for e in tuple_]\n",
    "# normed_predictions = [list(l) for l in\n",
    "#                       zip(*map(divide_by_sum,\n",
    "#                                zip(model_4_hours.predict(X_test),\n",
    "#                                    model_8_hours.predict(X_test),\n",
    "#                                    model_12_hours.predict(X_test),\n",
    "#                                    model_long_hours.predict(X_test))))\n",
    "#                       ]\n",
    "# (mean_absolute_error(Y_test.proportion_under_4_hours, normed_predictions[0]),\n",
    "#  mean_absolute_error(Y_test.proportion_4_hours_8_hours, normed_predictions[1]),\n",
    "#  mean_absolute_error(Y_test.proportion_8_hours_12_hours, normed_predictions[2]),\n",
    "#  mean_absolute_error(Y_test.proportion_over_12_hours, normed_predictions[3]))"
   ],
   "metadata": {
    "collapsed": false,
    "pycharm": {
     "name": "#%%\n"
    }
   }
  },
  {
   "cell_type": "code",
   "execution_count": null,
   "outputs": [],
   "source": [
    "# model_bytes = pickle.dumps((model_4_hours,\n",
    "#                             model_8_hours,\n",
    "#                             model_12_hours,\n",
    "#                             model_long_hours))\n",
    "# print(len(model_bytes))\n",
    "# with open(\"Models/TrainingRandomForestScotlandModel.pkl\", 'wb') as save_file:\n",
    "#     save_file.write(model_bytes)\n"
   ],
   "metadata": {
    "collapsed": false,
    "pycharm": {
     "name": "#%%\n"
    }
   }
  },
  {
   "cell_type": "code",
   "execution_count": null,
   "outputs": [],
   "source": [
    "# model_4_hours_loaded,\\\n",
    "# model_8_hours_loaded,\\\n",
    "# model_12_hours_loaded,\\\n",
    "# model_long_hours_loaded = None, None, None, None\n",
    "# with open(\"Models/TrainingRandomForestScotlandModel.pkl\", 'rb') as save_file:\n",
    "#     model_bytes = save_file.read()\n",
    "#     print(len(model_bytes))\n",
    "#     model_4_hours_loaded,\\\n",
    "#     model_8_hours_loaded,\\\n",
    "#     model_12_hours_loaded,\\\n",
    "#     model_long_hours_loaded = pickle.loads(model_bytes)"
   ],
   "metadata": {
    "collapsed": false,
    "pycharm": {
     "name": "#%%\n"
    }
   }
  },
  {
   "cell_type": "code",
   "execution_count": null,
   "outputs": [],
   "source": [
    "# (mean_absolute_error(Y_test.proportion_under_4_hours, model_4_hours_loaded.predict(X_test)),\n",
    "#  mean_absolute_error(Y_test.proportion_4_hours_8_hours, model_8_hours_loaded.predict(X_test)),\n",
    "#  mean_absolute_error(Y_test.proportion_8_hours_12_hours, model_12_hours_loaded.predict(X_test)),\n",
    "#  mean_absolute_error(Y_test.proportion_over_12_hours, model_long_hours_loaded.predict(X_test)))"
   ],
   "metadata": {
    "collapsed": false,
    "pycharm": {
     "name": "#%%\n"
    }
   }
  },
  {
   "cell_type": "code",
   "execution_count": 9,
   "outputs": [
    {
     "data": {
      "text/plain": "Text(0.5, 1.0, 'Feature Importance for Test Data Model')"
     },
     "execution_count": 9,
     "metadata": {},
     "output_type": "execute_result"
    },
    {
     "data": {
      "text/plain": "<Figure size 576x360 with 1 Axes>",
      "image/png": "[encoded data removed]"
     },
     "metadata": {
      "needs_background": "light"
     },
     "output_type": "display_data"
    }
   ],
   "source": [
    "def format_names(names):\n",
    "    return [\"%s (%03d)\"%(name, idx)for idx, name in enumerate(names)]\n",
    "height, names= list(zip(*list(reversed(sorted(zip(\n",
    "    model_test_data.feature_importances_,\n",
    "    format_names(X.columns)\n",
    "))))[:10]))\n",
    "fig, axs = plt.subplots()\n",
    "axs.barh(names, height)\n",
    "\n",
    "\n",
    "axs.set_xlabel(\"Average Gini Importance\")\n",
    "\n",
    "fig.set_size_inches(8, 5)\n",
    "axs.set_title(\"Feature Importance for Test Data Model\", fontsize=16)"
   ],
   "metadata": {
    "collapsed": false,
    "pycharm": {
     "name": "#%%\n"
    }
   }
  },
  {
   "cell_type": "code",
   "execution_count": 13,
   "outputs": [],
   "source": [
    "from sklearn.metrics import r2_score\n",
    "from rfpimp import permutation_importances"
   ],
   "metadata": {
    "collapsed": false,
    "pycharm": {
     "name": "#%%\n"
    }
   }
  },
  {
   "cell_type": "code",
   "execution_count": 18,
   "outputs": [
    {
     "data": {
      "text/plain": "Text(0.5, 1.0, 'Feature Importance for Test Data Model')"
     },
     "execution_count": 18,
     "metadata": {},
     "output_type": "execute_result"
    },
    {
     "data": {
      "text/plain": "<Figure size 576x360 with 1 Axes>",
      "image/png": "[encoded data removed]"
     },
     "metadata": {
      "needs_background": "light"
     },
     "output_type": "display_data"
    }
   ],
   "source": [
    "def r2(rf, X_train, y_train):\n",
    "    return r2_score(y_train, rf.predict(X_train))\n",
    "\n",
    "perm_imp_rfpimp = permutation_importances(model_test_data, X, Y, r2)[:10]\n",
    "\n",
    "\n",
    "fig, axs = plt.subplots()\n",
    "axs.barh(perm_imp_rfpimp.index, perm_imp_rfpimp.Importance)\n",
    "\n",
    "\n",
    "axs.set_xlabel(\"Permutation Importance\")\n",
    "\n",
    "fig.set_size_inches(8, 5)\n",
    "axs.set_title(\"Feature Importance for Test Data Model\", fontsize=16)"
   ],
   "metadata": {
    "collapsed": false,
    "pycharm": {
     "name": "#%%\n"
    }
   }
  },
  {
   "cell_type": "code",
   "execution_count": 19,
   "outputs": [
    {
     "data": {
      "text/plain": "                     Importance\nFeature                        \nImportant Feature 1    1.580635\nImportant Feature 2    0.098649\nNoise 5                0.002965\nNoise 4                0.002809\nNoise 2                0.002566\nNoise 6                0.002560\nNoise 3                0.002301\nNoise 1                0.001960",
      "text/html": "<div>\n<style scoped>\n    .dataframe tbody tr th:only-of-type {\n        vertical-align: middle;\n    }\n\n    .dataframe tbody tr th {\n        vertical-align: top;\n    }\n\n    .dataframe thead th {\n        text-align: right;\n    }\n</style>\n<table border=\"1\" class=\"dataframe\">\n  <thead>\n    <tr style=\"text-align: right;\">\n      <th></th>\n      <th>Importance</th>\n    </tr>\n    <tr>\n      <th>Feature</th>\n      <th></th>\n    </tr>\n  </thead>\n  <tbody>\n    <tr>\n      <th>Important Feature 1</th>\n      <td>1.580635</td>\n    </tr>\n    <tr>\n      <th>Important Feature 2</th>\n      <td>0.098649</td>\n    </tr>\n    <tr>\n      <th>Noise 5</th>\n      <td>0.002965</td>\n    </tr>\n    <tr>\n      <th>Noise 4</th>\n      <td>0.002809</td>\n    </tr>\n    <tr>\n      <th>Noise 2</th>\n      <td>0.002566</td>\n    </tr>\n    <tr>\n      <th>Noise 6</th>\n      <td>0.002560</td>\n    </tr>\n    <tr>\n      <th>Noise 3</th>\n      <td>0.002301</td>\n    </tr>\n    <tr>\n      <th>Noise 1</th>\n      <td>0.001960</td>\n    </tr>\n  </tbody>\n</table>\n</div>"
     },
     "execution_count": 19,
     "metadata": {},
     "output_type": "execute_result"
    }
   ],
   "source": [
    "perm_imp_rfpimp"
   ],
   "metadata": {
    "collapsed": false,
    "pycharm": {
     "name": "#%%\n"
    }
   }
  },
  {
   "cell_type": "code",
   "execution_count": null,
   "outputs": [],
   "source": [],
   "metadata": {
    "collapsed": false,
    "pycharm": {
     "name": "#%%\n"
    }
   }
  }
 ],
 "metadata": {
  "kernelspec": {
   "display_name": "Python 3",
   "language": "python",
   "name": "python3"
  },
  "language_info": {
   "codemirror_mode": {
    "name": "ipython",
    "version": 2
   },
   "file_extension": ".py",
   "mimetype": "text/x-python",
   "name": "python",
   "nbconvert_exporter": "python",
   "pygments_lexer": "ipython2",
   "version": "2.7.6"
  }
 },
 "nbformat": 4,
 "nbformat_minor": 0
}