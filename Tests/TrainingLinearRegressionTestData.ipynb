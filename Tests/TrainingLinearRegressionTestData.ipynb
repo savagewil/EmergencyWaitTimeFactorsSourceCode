{
 "cells": [
  {
   "cell_type": "code",
   "execution_count": 1,
   "outputs": [],
   "source": [
    "import pandas as pd\n",
    "from sklearn.linear_model import LinearRegression\n",
    "from sklearn.metrics import mean_squared_error, mean_absolute_error\n",
    "import pickle"
   ],
   "metadata": {
    "collapsed": false,
    "pycharm": {
     "name": "#%%\n"
    }
   }
  },
  {
   "cell_type": "code",
   "execution_count": 7,
   "metadata": {
    "collapsed": true
   },
   "outputs": [],
   "source": [
    "data = pd.read_csv(\"TestData.csv\")"
   ]
  },
  {
   "cell_type": "code",
   "execution_count": 8,
   "outputs": [],
   "source": [
    "model_test_data = LinearRegression()"
   ],
   "metadata": {
    "collapsed": false,
    "pycharm": {
     "name": "#%%\n"
    }
   }
  },
  {
   "cell_type": "code",
   "execution_count": 9,
   "outputs": [],
   "source": [
    "Y = data.Label\n",
    "X = data.drop(columns=[\"Label\"])"
   ],
   "metadata": {
    "collapsed": false,
    "pycharm": {
     "name": "#%%\n"
    }
   }
  },
  {
   "cell_type": "code",
   "execution_count": 10,
   "outputs": [],
   "source": [
    "# X = training_data\n",
    "# X[\"region_east\"] = 1.0 *(X[\"region\"] == \"East\")\n",
    "# X[\"region_west\"] =  1.0 *(X[\"region\"] == \"West\")\n",
    "# X[\"region_north\"] =  1.0 *(X[\"region\"] == \"North\")\n",
    "# X = X.drop(columns=[\"region\", \"moon_phase_name\"])\n",
    "# for col in X.columns:\n",
    "#     X[col] = X[col].astype(str).str.replace(',', '').astype(float)\n",
    "#     if X[col].isna().any():\n",
    "#         X[col] = X[col].fillna(0)"
   ],
   "metadata": {
    "collapsed": false,
    "pycharm": {
     "name": "#%%\n"
    }
   }
  },
  {
   "cell_type": "code",
   "execution_count": 11,
   "outputs": [
    {
     "data": {
      "text/plain": "LinearRegression()"
     },
     "execution_count": 11,
     "metadata": {},
     "output_type": "execute_result"
    }
   ],
   "source": [
    "model_test_data.fit(X,Y)\n"
   ],
   "metadata": {
    "collapsed": false,
    "pycharm": {
     "name": "#%%\n"
    }
   }
  },
  {
   "cell_type": "code",
   "execution_count": 12,
   "outputs": [
    {
     "data": {
      "text/plain": "1.1356841556585395e-10"
     },
     "execution_count": 12,
     "metadata": {},
     "output_type": "execute_result"
    }
   ],
   "source": [
    "(mean_absolute_error(Y, model_test_data.predict(X)))"
   ],
   "metadata": {
    "collapsed": false,
    "pycharm": {
     "name": "#%%\n"
    }
   }
  },
  {
   "cell_type": "code",
   "execution_count": 13,
   "outputs": [],
   "source": [
    "# testing_data = pd.read_csv(\"Data/Scotland/scottish_data_testing.csv\")\n",
    "# testing_labels = pd.read_csv(\"Data/Scotland/scottish_labels_testing.csv\")"
   ],
   "metadata": {
    "collapsed": false,
    "pycharm": {
     "name": "#%%\n"
    }
   }
  },
  {
   "cell_type": "code",
   "execution_count": 14,
   "outputs": [],
   "source": [
    "# Y_test = testing_labels.drop(columns = ['attendance', 'number_over_4_hours',\n",
    "#        'number_over_8_hours', 'percentage_within_8_hours',\n",
    "#        'number_over_12_hours', 'percentage_within_12_hours',\n",
    "#        'number_under_4_hours', 'number_4_hours_8_hours',\n",
    "#        'number_8_hours_12_hours', 'percentage_within_4_hours'])\n",
    "# X_test = testing_data\n",
    "# X_test[\"region_east\"] = 1.0 *(X_test[\"region\"] == \"East\")\n",
    "# X_test[\"region_west\"] =  1.0 *(X_test[\"region\"] == \"West\")\n",
    "# X_test[\"region_north\"] =  1.0 *(X_test[\"region\"] == \"North\")\n",
    "# X_test = X_test.drop(columns=[\"region\", \"moon_phase_name\"])\n",
    "# for col in X_test.columns:\n",
    "#     X_test[col] = X_test[col].astype(str).str.replace(',', '').astype(float)\n",
    "#     if X_test[col].isna().any():\n",
    "#         X_test[col] = X_test[col].fillna(0)"
   ],
   "metadata": {
    "collapsed": false,
    "pycharm": {
     "name": "#%%\n"
    }
   }
  },
  {
   "cell_type": "code",
   "execution_count": 15,
   "outputs": [],
   "source": [
    "# (mean_absolute_error(Y_test.proportion_under_4_hours, model_4_hours.predict(X_test)),\n",
    "#  mean_absolute_error(Y_test.proportion_4_hours_8_hours, model_8_hours.predict(X_test)),\n",
    "#  mean_absolute_error(Y_test.proportion_8_hours_12_hours, model_12_hours.predict(X_test)),\n",
    "#  mean_absolute_error(Y_test.proportion_over_12_hours, model_long_hours.predict(X_test)))"
   ],
   "metadata": {
    "collapsed": false,
    "pycharm": {
     "name": "#%%\n"
    }
   }
  },
  {
   "cell_type": "code",
   "execution_count": 16,
   "outputs": [],
   "source": [
    "# def divide_by_sum(tuple_):\n",
    "#     sum_ = sum(tuple_)\n",
    "#     return [e/sum_ for e in tuple_]\n",
    "# normed_predictions = [list(l) for l in\n",
    "#                       zip(*map(divide_by_sum,\n",
    "#                                zip(model_4_hours.predict(X_test),\n",
    "#                                    model_8_hours.predict(X_test),\n",
    "#                                    model_12_hours.predict(X_test),\n",
    "#                                    model_long_hours.predict(X_test))))\n",
    "#                       ]\n",
    "# (mean_absolute_error(Y_test.proportion_under_4_hours, normed_predictions[0]),\n",
    "#  mean_absolute_error(Y_test.proportion_4_hours_8_hours, normed_predictions[1]),\n",
    "#  mean_absolute_error(Y_test.proportion_8_hours_12_hours, normed_predictions[2]),\n",
    "#  mean_absolute_error(Y_test.proportion_over_12_hours, normed_predictions[3]))"
   ],
   "metadata": {
    "collapsed": false,
    "pycharm": {
     "name": "#%%\n"
    }
   }
  },
  {
   "cell_type": "code",
   "execution_count": 16,
   "outputs": [],
   "source": [],
   "metadata": {
    "collapsed": false,
    "pycharm": {
     "name": "#%%\n"
    }
   }
  },
  {
   "cell_type": "code",
   "execution_count": 17,
   "outputs": [],
   "source": [
    "# model_bytes = pickle.dumps((model_4_hours,\n",
    "#                             model_8_hours,\n",
    "#                             model_12_hours,\n",
    "#                             model_long_hours))\n",
    "# print(len(model_bytes))\n",
    "# with open(\"Models/TrainingLinearRegressionScotlandModel.pkl\", 'wb') as save_file:\n",
    "#     save_file.write(model_bytes)\n"
   ],
   "metadata": {
    "collapsed": false,
    "pycharm": {
     "name": "#%%\n"
    }
   }
  },
  {
   "cell_type": "code",
   "execution_count": 18,
   "outputs": [],
   "source": [
    "# model_4_hours_loaded,\\\n",
    "# model_8_hours_loaded,\\\n",
    "# model_12_hours_loaded,\\\n",
    "# model_long_hours_loaded = None, None, None, None\n",
    "# with open(\"Models/TrainingLinearRegressionScotlandModel.pkl\", 'rb') as save_file:\n",
    "#     model_bytes = save_file.read()\n",
    "#     print(len(model_bytes))\n",
    "#     model_4_hours_loaded,\\\n",
    "#     model_8_hours_loaded,\\\n",
    "#     model_12_hours_loaded,\\\n",
    "#     model_long_hours_loaded = pickle.loads(model_bytes)"
   ],
   "metadata": {
    "collapsed": false,
    "pycharm": {
     "name": "#%%\n"
    }
   }
  },
  {
   "cell_type": "code",
   "execution_count": 19,
   "outputs": [
    {
     "data": {
      "text/plain": "array([ 2.00000000e+00, -1.00000000e+00,  1.65563396e-12,  1.31832989e-10,\n        9.42642353e-11,  1.14175058e-10, -1.05443876e-10, -2.39397724e-10])"
     },
     "execution_count": 19,
     "metadata": {},
     "output_type": "execute_result"
    }
   ],
   "source": [
    "model_test_data.coef_"
   ],
   "metadata": {
    "collapsed": false,
    "pycharm": {
     "name": "#%%\n"
    }
   }
  },
  {
   "cell_type": "code",
   "execution_count": 20,
   "outputs": [],
   "source": [
    "import numpy as np"
   ],
   "metadata": {
    "collapsed": false,
    "pycharm": {
     "name": "#%%\n"
    }
   }
  },
  {
   "cell_type": "code",
   "execution_count": 21,
   "outputs": [],
   "source": [
    "coef_pd = pd.DataFrame(np.abs(model_test_data.coef_), X.columns, columns=['Coefficients'])"
   ],
   "metadata": {
    "collapsed": false,
    "pycharm": {
     "name": "#%%\n"
    }
   }
  },
  {
   "cell_type": "code",
   "execution_count": 22,
   "outputs": [
    {
     "data": {
      "text/plain": "                     Coefficients\nImportant Feature 1  2.000000e+00\nImportant Feature 2  1.000000e+00\nNoise 6              2.393977e-10\nNoise 2              1.318330e-10\nNoise 4              1.141751e-10\nNoise 5              1.054439e-10\nNoise 3              9.426424e-11\nNoise 1              1.655634e-12",
      "text/html": "<div>\n<style scoped>\n    .dataframe tbody tr th:only-of-type {\n        vertical-align: middle;\n    }\n\n    .dataframe tbody tr th {\n        vertical-align: top;\n    }\n\n    .dataframe thead th {\n        text-align: right;\n    }\n</style>\n<table border=\"1\" class=\"dataframe\">\n  <thead>\n    <tr style=\"text-align: right;\">\n      <th></th>\n      <th>Coefficients</th>\n    </tr>\n  </thead>\n  <tbody>\n    <tr>\n      <th>Important Feature 1</th>\n      <td>2.000000e+00</td>\n    </tr>\n    <tr>\n      <th>Important Feature 2</th>\n      <td>1.000000e+00</td>\n    </tr>\n    <tr>\n      <th>Noise 6</th>\n      <td>2.393977e-10</td>\n    </tr>\n    <tr>\n      <th>Noise 2</th>\n      <td>1.318330e-10</td>\n    </tr>\n    <tr>\n      <th>Noise 4</th>\n      <td>1.141751e-10</td>\n    </tr>\n    <tr>\n      <th>Noise 5</th>\n      <td>1.054439e-10</td>\n    </tr>\n    <tr>\n      <th>Noise 3</th>\n      <td>9.426424e-11</td>\n    </tr>\n    <tr>\n      <th>Noise 1</th>\n      <td>1.655634e-12</td>\n    </tr>\n  </tbody>\n</table>\n</div>"
     },
     "execution_count": 22,
     "metadata": {},
     "output_type": "execute_result"
    }
   ],
   "source": [
    "coef_pd.sort_values(\"Coefficients\", ascending=False)"
   ],
   "metadata": {
    "collapsed": false,
    "pycharm": {
     "name": "#%%\n"
    }
   }
  },
  {
   "cell_type": "code",
   "execution_count": 26,
   "outputs": [
    {
     "ename": "AttributeError",
     "evalue": "'LinearRegression' object has no attribute 'n_features_in'",
     "output_type": "error",
     "traceback": [
      "\u001B[1;31m---------------------------------------------------------------------------\u001B[0m",
      "\u001B[1;31mAttributeError\u001B[0m                            Traceback (most recent call last)",
      "\u001B[1;32m<ipython-input-26-ddd37061fa5e>\u001B[0m in \u001B[0;36m<module>\u001B[1;34m\u001B[0m\n\u001B[1;32m----> 1\u001B[1;33m \u001B[0mmodel_4_hours\u001B[0m\u001B[1;33m.\u001B[0m\u001B[0mn_features_in\u001B[0m\u001B[1;33m\u001B[0m\u001B[0m\n\u001B[0m",
      "\u001B[1;31mAttributeError\u001B[0m: 'LinearRegression' object has no attribute 'n_features_in'"
     ]
    }
   ],
   "source": [],
   "metadata": {
    "collapsed": false,
    "pycharm": {
     "name": "#%%\n"
    }
   }
  },
  {
   "cell_type": "code",
   "execution_count": null,
   "outputs": [],
   "source": [],
   "metadata": {
    "collapsed": false,
    "pycharm": {
     "name": "#%%\n"
    }
   }
  }
 ],
 "metadata": {
  "kernelspec": {
   "display_name": "Python 3",
   "language": "python",
   "name": "python3"
  },
  "language_info": {
   "codemirror_mode": {
    "name": "ipython",
    "version": 2
   },
   "file_extension": ".py",
   "mimetype": "text/x-python",
   "name": "python",
   "nbconvert_exporter": "python",
   "pygments_lexer": "ipython2",
   "version": "2.7.6"
  }
 },
 "nbformat": 4,
 "nbformat_minor": 0
}