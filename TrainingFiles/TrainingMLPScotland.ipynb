{
 "cells": [
  {
   "cell_type": "code",
   "execution_count": 24,
   "outputs": [],
   "source": [
    "import pandas as pd\n",
    "from sklearn.neural_network import MLPRegressor\n",
    "from sklearn.metrics import mean_squared_error, mean_absolute_error\n",
    "import pickle\n",
    "from CorrectFeatures import correct_SCT_data, correct_SCT_labels"
   ],
   "metadata": {
    "collapsed": false,
    "pycharm": {
     "name": "#%%\n"
    }
   }
  },
  {
   "cell_type": "code",
   "execution_count": 25,
   "metadata": {
    "collapsed": true
   },
   "outputs": [],
   "source": [
    "training_data = correct_SCT_data(pd.read_csv(\"Data/Scotland/scottish_data_training.csv\"))\n",
    "training_labels = correct_SCT_labels(pd.read_csv(\"Data/Scotland/scottish_labels_training.csv\"))"
   ]
  },
  {
   "cell_type": "code",
   "execution_count": 26,
   "outputs": [],
   "source": [
    "Y = training_labels\n",
    "# Y = training_labels.drop(columns = ['attendance', 'number_over_4_hours',\n",
    "#        'number_over_8_hours', 'percentage_within_8_hours',\n",
    "#        'number_over_12_hours', 'percentage_within_12_hours',\n",
    "#        'number_under_4_hours', 'number_4_hours_8_hours',\n",
    "#        'number_8_hours_12_hours', 'percentage_within_4_hours'])"
   ],
   "metadata": {
    "collapsed": false,
    "pycharm": {
     "name": "#%%\n"
    }
   }
  },
  {
   "cell_type": "code",
   "execution_count": 27,
   "outputs": [],
   "source": [
    "X = training_data\n",
    "# X[\"region_east\"] = 1.0 *(X[\"region\"] == \"East\")\n",
    "# X[\"region_west\"] =  1.0 *(X[\"region\"] == \"West\")\n",
    "# X[\"region_north\"] =  1.0 *(X[\"region\"] == \"North\")\n",
    "# X = X.drop(columns=[\"region\", \"moon_phase_name\"])\n",
    "# for col in X.columns:\n",
    "#     X[col] = X[col].astype(str).str.replace(',', '').astype(float)\n",
    "#     if X[col].isna().any():\n",
    "#         X[col] = X[col].fillna(0)"
   ],
   "metadata": {
    "collapsed": false,
    "pycharm": {
     "name": "#%%\n"
    }
   }
  },
  {
   "cell_type": "code",
   "execution_count": 28,
   "outputs": [],
   "source": [
    "model_4_hours = MLPRegressor(hidden_layer_sizes=(100, 100, 100, 100, 100, 100, 100, 100,), activation=\"tanh\")\n",
    "model_8_hours = MLPRegressor(hidden_layer_sizes=(100, 100, 100, 100, 100, 100, 100, 100,),activation=\"tanh\")\n",
    "model_12_hours = MLPRegressor(hidden_layer_sizes=(100, 100, 100, 100, 100, 100, 100, 100,),activation=\"tanh\")\n",
    "model_long_hours = MLPRegressor(hidden_layer_sizes=(100, 100, 100, 100, 100, 100, 100, 100,),activation=\"tanh\")\n"
   ],
   "metadata": {
    "collapsed": false,
    "pycharm": {
     "name": "#%%\n"
    }
   }
  },
  {
   "cell_type": "code",
   "execution_count": 29,
   "outputs": [
    {
     "data": {
      "text/plain": "MLPRegressor(activation='tanh',\n             hidden_layer_sizes=(100, 100, 100, 100, 100, 100, 100, 100))"
     },
     "execution_count": 29,
     "metadata": {},
     "output_type": "execute_result"
    }
   ],
   "source": [
    "model_4_hours.fit(X,Y.proportion_under_4_hours)\n",
    "model_8_hours.fit(X,Y.proportion_4_hours_8_hours)\n",
    "model_12_hours.fit(X,Y.proportion_8_hours_12_hours)\n",
    "model_long_hours.fit(X,Y.proportion_over_12_hours)\n"
   ],
   "metadata": {
    "collapsed": false,
    "pycharm": {
     "name": "#%%\n"
    }
   }
  },
  {
   "cell_type": "code",
   "execution_count": 30,
   "outputs": [
    {
     "data": {
      "text/plain": "(0.054421056397506815,\n 0.06353148360897856,\n 0.009402842414109052,\n 0.009413181819064979)"
     },
     "execution_count": 30,
     "metadata": {},
     "output_type": "execute_result"
    }
   ],
   "source": [
    "(mean_absolute_error(Y.proportion_under_4_hours, model_4_hours.predict(X)),\n",
    " mean_absolute_error(Y.proportion_4_hours_8_hours, model_8_hours.predict(X)),\n",
    " mean_absolute_error(Y.proportion_8_hours_12_hours, model_12_hours.predict(X)),\n",
    " mean_absolute_error(Y.proportion_over_12_hours, model_long_hours.predict(X)))"
   ],
   "metadata": {
    "collapsed": false,
    "pycharm": {
     "name": "#%%\n"
    }
   }
  },
  {
   "cell_type": "code",
   "execution_count": 31,
   "outputs": [],
   "source": [
    "testing_data = correct_SCT_data(pd.read_csv(\"Data/Scotland/scottish_data_testing.csv\"))\n",
    "testing_labels = correct_SCT_labels(pd.read_csv(\"Data/Scotland/scottish_labels_testing.csv\"))"
   ],
   "metadata": {
    "collapsed": false,
    "pycharm": {
     "name": "#%%\n"
    }
   }
  },
  {
   "cell_type": "code",
   "execution_count": 32,
   "outputs": [],
   "source": [
    "Y_test = testing_labels\n",
    "X_test = testing_data"
   ],
   "metadata": {
    "collapsed": false,
    "pycharm": {
     "name": "#%%\n"
    }
   }
  },
  {
   "cell_type": "code",
   "execution_count": 34,
   "outputs": [
    {
     "data": {
      "text/plain": "(0.053415537341286186,\n 0.06331566569031688,\n 0.009101714887160777,\n 0.009317283252826948)"
     },
     "execution_count": 34,
     "metadata": {},
     "output_type": "execute_result"
    }
   ],
   "source": [
    "(mean_absolute_error(Y_test.proportion_under_4_hours, model_4_hours.predict(X_test)),\n",
    " mean_absolute_error(Y_test.proportion_4_hours_8_hours, model_8_hours.predict(X_test)),\n",
    " mean_absolute_error(Y_test.proportion_8_hours_12_hours, model_12_hours.predict(X_test)),\n",
    " mean_absolute_error(Y_test.proportion_over_12_hours, model_long_hours.predict(X_test)))"
   ],
   "metadata": {
    "collapsed": false,
    "pycharm": {
     "name": "#%%\n"
    }
   }
  },
  {
   "cell_type": "code",
   "execution_count": 35,
   "outputs": [],
   "source": [
    "# def divide_by_sum(tuple_):\n",
    "#     sum_ = sum(tuple_)\n",
    "#     return [e/sum_ for e in tuple_]\n",
    "# normed_predictions = [list(l) for l in\n",
    "#                       zip(*map(divide_by_sum,\n",
    "#                                zip(model_4_hours.predict(X_test),\n",
    "#                                    model_8_hours.predict(X_test),\n",
    "#                                    model_12_hours.predict(X_test),\n",
    "#                                    model_long_hours.predict(X_test))))\n",
    "#                       ]\n",
    "# (mean_absolute_error(Y_test.proportion_under_4_hours, normed_predictions[0]),\n",
    "#  mean_absolute_error(Y_test.proportion_4_hours_8_hours, normed_predictions[1]),\n",
    "#  mean_absolute_error(Y_test.proportion_8_hours_12_hours, normed_predictions[2]),\n",
    "#  mean_absolute_error(Y_test.proportion_over_12_hours, normed_predictions[3]))"
   ],
   "metadata": {
    "collapsed": false,
    "pycharm": {
     "name": "#%%\n"
    }
   }
  },
  {
   "cell_type": "code",
   "execution_count": 35,
   "outputs": [],
   "source": [],
   "metadata": {
    "collapsed": false,
    "pycharm": {
     "name": "#%%\n"
    }
   }
  },
  {
   "cell_type": "code",
   "execution_count": 36,
   "outputs": [
    {
     "name": "stdout",
     "output_type": "stream",
     "text": [
      "11750722\n"
     ]
    }
   ],
   "source": [
    "model_bytes = pickle.dumps((model_4_hours,\n",
    "                            model_8_hours,\n",
    "                            model_12_hours,\n",
    "                            model_long_hours))\n",
    "print(len(model_bytes))\n",
    "with open(\"Models/TrainingMLPScotlandModel.pkl\", 'wb') as save_file:\n",
    "    save_file.write(model_bytes)\n"
   ],
   "metadata": {
    "collapsed": false,
    "pycharm": {
     "name": "#%%\n"
    }
   }
  },
  {
   "cell_type": "code",
   "execution_count": 37,
   "outputs": [
    {
     "name": "stdout",
     "output_type": "stream",
     "text": [
      "11750722\n"
     ]
    }
   ],
   "source": [
    "model_4_hours_loaded,\\\n",
    "model_8_hours_loaded,\\\n",
    "model_12_hours_loaded,\\\n",
    "model_long_hours_loaded = None, None, None, None\n",
    "with open(\"Models/TrainingMLPScotlandModel.pkl\", 'rb') as save_file:\n",
    "    model_bytes = save_file.read()\n",
    "    print(len(model_bytes))\n",
    "    model_4_hours_loaded,\\\n",
    "    model_8_hours_loaded,\\\n",
    "    model_12_hours_loaded,\\\n",
    "    model_long_hours_loaded = pickle.loads(model_bytes)"
   ],
   "metadata": {
    "collapsed": false,
    "pycharm": {
     "name": "#%%\n"
    }
   }
  },
  {
   "cell_type": "code",
   "execution_count": 37,
   "outputs": [],
   "source": [],
   "metadata": {
    "collapsed": false,
    "pycharm": {
     "name": "#%%\n"
    }
   }
  }
 ],
 "metadata": {
  "kernelspec": {
   "display_name": "Python 3",
   "language": "python",
   "name": "python3"
  },
  "language_info": {
   "codemirror_mode": {
    "name": "ipython",
    "version": 2
   },
   "file_extension": ".py",
   "mimetype": "text/x-python",
   "name": "python",
   "nbconvert_exporter": "python",
   "pygments_lexer": "ipython2",
   "version": "2.7.6"
  }
 },
 "nbformat": 4,
 "nbformat_minor": 0
}