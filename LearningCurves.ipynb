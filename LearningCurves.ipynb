{
 "cells": [
  {
   "cell_type": "code",
   "execution_count": 1,
   "metadata": {
    "pycharm": {
     "name": "#%%\n"
    }
   },
   "outputs": [],
   "source": [
    "import numpy as np\n",
    "import matplotlib.pyplot as plt\n",
    "from sklearn.model_selection import learning_curve\n",
    "import pandas as pd\n",
    "from sklearn.linear_model import LinearRegression\n",
    "from sklearn.neural_network import MLPRegressor\n",
    "from sklearn.ensemble import RandomForestRegressor\n",
    "from sklearn.metrics import mean_squared_error, mean_absolute_error\n",
    "import pickle\n",
    "import numpy as np\n",
    "import matplotlib.pyplot as plt\n",
    "from sklearn.naive_bayes import GaussianNB\n",
    "from sklearn.svm import SVC\n",
    "from sklearn.datasets import load_digits\n",
    "from sklearn.model_selection import learning_curve\n",
    "from sklearn.model_selection import ShuffleSplit\n",
    "from CorrectFeatures import correct_SCT_data, correct_SCT_labels, correct_US_data, correct_US_labels\n",
    "from sklearn.metrics import mean_squared_error, mean_absolute_error, make_scorer\n"
   ]
  },
  {
   "cell_type": "code",
   "execution_count": 30,
   "metadata": {
    "pycharm": {
     "name": "#%%\n"
    }
   },
   "outputs": [],
   "source": [
    "def plot_learning_curve(\n",
    "        estimator,\n",
    "        title,\n",
    "        X,\n",
    "        y,\n",
    "        axes=None,\n",
    "        ylim=None,\n",
    "        cv=None,\n",
    "        n_jobs=None,\n",
    "        train_sizes=np.linspace(0.1, 1.0, 5),\n",
    "        exploit_incremental_learning = False\n",
    "):\n",
    "    if axes is None:\n",
    "        _, axes = plt.subplots(figsize=(20, 5))\n",
    "\n",
    "    axes.set_title(title)\n",
    "    if ylim is not None:\n",
    "        axes.set_ylim(*ylim)\n",
    "    axes.set_xlabel(\"Training examples\")\n",
    "    axes.set_ylabel(\"Error\")\n",
    "    # print(y)\n",
    "    train_sizes, train_scores, test_scores, fit_times, _ = learning_curve(\n",
    "        estimator,\n",
    "        X,\n",
    "        y,\n",
    "        cv=cv,\n",
    "        n_jobs=n_jobs,\n",
    "        train_sizes=train_sizes,\n",
    "        return_times=True,\n",
    "        scoring=\"neg_mean_absolute_error\",\n",
    "        exploit_incremental_learning = exploit_incremental_learning\n",
    "    )\n",
    "    train_scores = -train_scores\n",
    "    test_scores = -test_scores\n",
    "    train_scores_mean = np.mean(train_scores, axis=1)\n",
    "    train_scores_std = np.std(train_scores, axis=1)\n",
    "    test_scores_mean = np.mean(test_scores, axis=1)\n",
    "    test_scores_std = np.std(test_scores, axis=1)\n",
    "    fit_times_mean = np.mean(fit_times, axis=1)\n",
    "    fit_times_std = np.std(fit_times, axis=1)\n",
    "\n",
    "    # Plot learning curve\n",
    "    axes.grid()\n",
    "    axes.fill_between(\n",
    "        train_sizes,\n",
    "        train_scores_mean - train_scores_std,\n",
    "        train_scores_mean + train_scores_std,\n",
    "        alpha=0.1,\n",
    "        color=\"r\",\n",
    "    )\n",
    "    axes.fill_between(\n",
    "        train_sizes,\n",
    "        test_scores_mean - test_scores_std,\n",
    "        test_scores_mean + test_scores_std,\n",
    "        alpha=0.1,\n",
    "        color=\"g\",\n",
    "    )\n",
    "    axes.plot(\n",
    "        train_sizes, train_scores_mean, \"o-\", color=\"r\", label=\"Training Error\"\n",
    "    )\n",
    "    axes.plot(\n",
    "        train_sizes, test_scores_mean, \"o-\", color=\"g\", label=\"Cross-validation Error\"\n",
    "    )\n",
    "    axes.legend(loc=\"best\")\n",
    "\n",
    "    return plt, train_scores, test_scores\n",
    "\n",
    "\n",
    "# fig, axes = plt.subplots(3, 2, figsize=(10, 15))\n",
    "#\n",
    "# X, y = load_digits(return_X_y=True)\n",
    "#\n",
    "# title = \"Learning Curves (Naive Bayes)\"\n",
    "# # Cross validation with 50 iterations to get smoother mean test and train\n",
    "# # score curves, each time with 20% data randomly selected as a validation set.\n",
    "# cv = ShuffleSplit(n_splits=50, test_size=0.2, random_state=0)\n",
    "#\n",
    "# estimator = GaussianNB()\n",
    "# plot_learning_curve(\n",
    "#     estimator, title, X, y, axes=axes[0, 0], cv=cv, n_jobs=4\n",
    "# )\n",
    "#\n",
    "# title = r\"Learning Curves (SVM, RBF kernel, $\\gamma=0.001$)\"\n",
    "# # SVC is more expensive so we do a lower number of CV iterations:\n",
    "# cv = ShuffleSplit(n_splits=5, test_size=0.2, random_state=0)\n",
    "# estimator = SVC(gamma=0.001)\n",
    "# plot_learning_curve(\n",
    "#     estimator, title, X, y, axes=axes[0, 1], ylim=(0.7, 1.01), cv=cv, n_jobs=4\n",
    "# )\n",
    "#\n",
    "# plt.show()"
   ]
  },
  {
   "cell_type": "code",
   "execution_count": 9,
   "outputs": [],
   "source": [
    "DEBUG = False"
   ],
   "metadata": {
    "collapsed": false,
    "pycharm": {
     "name": "#%%\n"
    }
   }
  },
  {
   "cell_type": "code",
   "execution_count": 13,
   "metadata": {
    "pycharm": {
     "name": "#%%\n"
    }
   },
   "outputs": [],
   "source": [
    "training_data_SCT = correct_SCT_data(pd.read_csv(\"Data/Scotland/scottish_data_training.csv\"))\n",
    "training_labels_SCT = correct_SCT_labels(pd.read_csv(\"Data/Scotland/scottish_labels_training.csv\"))"
   ]
  },
  {
   "cell_type": "code",
   "execution_count": 14,
   "metadata": {
    "pycharm": {
     "name": "#%%\n"
    }
   },
   "outputs": [],
   "source": [
    "training_data_US = correct_US_data(pd.read_csv(\"Data/US/US_data_training.csv\"))\n",
    "training_labels_US = correct_US_labels(pd.read_csv(\"Data/US/US_labels_training.csv\"))"
   ]
  },
  {
   "cell_type": "code",
   "execution_count": 15,
   "outputs": [],
   "source": [
    "if DEBUG:\n",
    "    training_data_SCT = training_data_SCT[:20]\n",
    "    training_labels_SCT = training_labels_SCT[:20]\n",
    "    training_data_US = training_data_US[:20]\n",
    "    training_labels_US = training_labels_US[:20]"
   ],
   "metadata": {
    "collapsed": false,
    "pycharm": {
     "name": "#%%\n"
    }
   }
  },
  {
   "cell_type": "code",
   "execution_count": 16,
   "metadata": {
    "pycharm": {
     "name": "#%%\n"
    }
   },
   "outputs": [],
   "source": [
    "# fig, axes = plt.subplots(2, 3, figsize=(20, 15))\n",
    "# title = \"Learning Curves United States Models\"\n",
    "\n",
    "# plot_learning_curve(\n",
    "#     model_hours_forest_lc, title, X, y, axes=axes[:, 0], ylim=(0.7, 1.01), cv=cv, n_jobs=4\n",
    "# )"
   ]
  },
  {
   "cell_type": "code",
   "execution_count": 17,
   "outputs": [],
   "source": [
    "import matplotlib as mpl\n",
    "# mpl.rcParams['figure.dpi'] = 400\n",
    "# font = {'family' : 'normal',\n",
    "#         'weight' : 'bold',\n",
    "#         'size'   : 14}\n",
    "#\n",
    "# plt.rcParams.update({'font.size': 14})"
   ],
   "metadata": {
    "collapsed": false,
    "pycharm": {
     "name": "#%%\n"
    }
   }
  },
  {
   "cell_type": "code",
   "execution_count": 38,
   "metadata": {
    "pycharm": {
     "name": "#%%\n"
    }
   },
   "outputs": [
    {
     "data": {
      "text/plain": "<Figure size 432x288 with 1 Axes>",
      "image/png": "[encoded data removed]"
     },
     "metadata": {
      "needs_background": "light"
     },
     "output_type": "display_data"
    }
   ],
   "source": [
    "model_hours_linear_lc_US_fig, axes = plt.subplots(1, 1) #, figsize=(4, 2.5))\n",
    "model_hours_linear_lc_US = LinearRegression()\n",
    "plot, train, test = plot_learning_curve(\n",
    "    model_hours_linear_lc_US, \"Learning Curve US Linear Regression\", training_data_US, training_labels_US,\n",
    "    ylim=(0.0, 50.0),\n",
    "    axes=axes, n_jobs=8\n",
    ")\n",
    "model_hours_linear_lc_US_fig.savefig(\"graphs/Learning_Curve_US_Linear_Regression.png\", dpi = 400)"
   ]
  },
  {
   "cell_type": "code",
   "execution_count": 32,
   "metadata": {
    "pycharm": {
     "name": "#%%\n"
    }
   },
   "outputs": [],
   "source": [
    "# fig, axes = plt.subplots(1, 1)\n",
    "# model_hours_linear_lc_SCT = LinearRegression()\n",
    "#\n",
    "# plot_learning_curve(\n",
    "#     model_hours_linear_lc_SCT, \"Learning Curve Scotland Linear Regression\", training_data_SCT, training_labels_SCT, axes=axes, n_jobs=2\n",
    "# )"
   ]
  },
  {
   "cell_type": "code",
   "execution_count": 33,
   "metadata": {
    "pycharm": {
     "name": "#%%\n"
    }
   },
   "outputs": [
    {
     "data": {
      "text/plain": "<Figure size 432x288 with 1 Axes>",
      "image/png": "[encoded data removed]"
     },
     "metadata": {
      "needs_background": "light"
     },
     "output_type": "display_data"
    }
   ],
   "source": [
    "model_hours_forest_lc_US_fig, axes = plt.subplots(1, 1)\n",
    "model_hours_forest_lc_US = RandomForestRegressor(n_estimators=100)\n",
    "\n",
    "plot_learning_curve(\n",
    "    model_hours_forest_lc_US, \"Learning Curve US Random Forest Regression\", training_data_US, training_labels_US, axes=axes, n_jobs=8,\n",
    "    ylim=(0.0, 50.0),\n",
    ")\n",
    "model_hours_forest_lc_US_fig.savefig(\"graphs/Learning_Curve_US_Random_Forest_Regression.png\",dpi=400)"
   ]
  },
  {
   "cell_type": "code",
   "execution_count": 34,
   "metadata": {
    "pycharm": {
     "name": "#%%\n"
    }
   },
   "outputs": [],
   "source": [
    "# fig, axes = plt.subplots(1, 1)\n",
    "# model_hours_forest_lc_SCT = RandomForestRegressor(n_estimators=100, n_jobs=2)\n",
    "# # plot_learning_curve(\n",
    "# #     model_hours_forest_lc, title, training_data_US[index_US], training_labels_US[index_US], axes=axes[:,1], n_jobs=2\n",
    "# # )\n",
    "# plot_learning_curve(\n",
    "#     model_hours_forest_lc_SCT, \"Learning Curve Scotland Random Forest Regression\", training_data_SCT, training_labels_SCT, axes=axes, n_jobs=2\n",
    "# )"
   ]
  },
  {
   "cell_type": "code",
   "execution_count": 35,
   "metadata": {
    "pycharm": {
     "name": "#%%\n"
    }
   },
   "outputs": [
    {
     "data": {
      "text/plain": "(<module 'matplotlib.pyplot' from 'C:\\\\Users\\\\wills\\\\AppData\\\\Local\\\\Programs\\\\Python\\\\Python36\\\\lib\\\\site-packages\\\\matplotlib\\\\pyplot.py'>,\n array([[99.69399619, 96.20460266, 94.85038411, 96.24308276, 96.19950628],\n        [67.57049985, 64.96077077, 65.9184742 , 65.82454581, 66.42750729],\n        [40.1361195 , 38.94873462, 40.51592681, 40.31031325, 40.54659594],\n        [35.11866258, 33.76132039, 34.72711376, 34.5489549 , 34.73935344],\n        [34.07178087, 33.10297299, 33.82124976, 33.58286578, 33.74749048]]),\n array([[95.9116723 , 99.30227908, 94.07969448, 96.09135864, 98.7684718 ],\n        [65.41487916, 68.69761513, 63.8889967 , 64.66339188, 68.23021084],\n        [37.75567049, 42.80832667, 38.24695556, 39.54954678, 42.1600722 ],\n        [32.99143029, 37.45458406, 33.62900511, 34.67894083, 35.64829057],\n        [32.06719184, 35.938506  , 33.04924705, 34.00230528, 33.33858805]]))"
     },
     "execution_count": 35,
     "metadata": {},
     "output_type": "execute_result"
    },
    {
     "data": {
      "text/plain": "<Figure size 432x288 with 1 Axes>",
      "image/png": "[encoded data removed]"
     },
     "metadata": {
      "needs_background": "light"
     },
     "output_type": "display_data"
    }
   ],
   "source": [
    "model_hours_MLP_lc_US_fig, axes = plt.subplots(1, 1)\n",
    "model_hours_MLP_lc_US = MLPRegressor(hidden_layer_sizes=(100, 100, 100, 100, 100, 100, 100, 100,),activation=\"tanh\")\n",
    "# plot_learning_curve(\n",
    "#     model_hours_MLP_lc, title, training_data_US[index_US], training_labels_US[index_US], axes=axes[:,2], n_jobs=2\n",
    "# )\n",
    "plot_learning_curve(\n",
    "    model_hours_MLP_lc_US, \"Learning Curve US MLP Regression\", training_data_US, training_labels_US, axes=axes, n_jobs=8,\n",
    "    ylim=(0.0, 50.0),\n",
    "    #exploit_incremental_learning=True\n",
    ")\n",
    "model_hours_MLP_lc_US_fig.savefig(\"graphs/Learning_Curve_US_MLP_Regression.png\", dpi=400)"
   ]
  },
  {
   "cell_type": "code",
   "execution_count": 37,
   "outputs": [],
   "source": [
    "model_hours_linear_lc_US_fig.savefig(\"graphs/Learning_Curve_US_Linear_Regression.png\", dpi = 400)\n",
    "model_hours_forest_lc_US_fig.savefig(\"graphs/Learning_Curve_US_Random_Forest_Regression.png\",dpi=400)\n",
    "model_hours_MLP_lc_US_fig.savefig(\"graphs/Learning_Curve_US_MLP_Regression.png\", dpi=400)"
   ],
   "metadata": {
    "collapsed": false,
    "pycharm": {
     "name": "#%%\n"
    }
   }
  },
  {
   "cell_type": "code",
   "execution_count": 23,
   "metadata": {
    "pycharm": {
     "name": "#%%\n"
    }
   },
   "outputs": [],
   "source": [
    "# fig, axes = plt.subplots(1, 1)\n",
    "# model_hours_MLP_lc_SCT = MLPRegressor(hidden_layer_sizes=(100, 100, 100, 100, 100, 100, 100, 100,),activation=\"tanh\")\n",
    "# # plot_learning_curve(\n",
    "# #     model_hours_MLP_lc, title, training_data_US[index_US], training_labels_US[index_US], axes=axes[:,2], n_jobs=2\n",
    "# # )\n",
    "# plot_learning_curve(\n",
    "#     model_hours_MLP_lc_SCT, \"Learning Curve Scotland MLP Regression\", training_data_SCT, training_labels_SCT, axes=axes, n_jobs=2\n",
    "# )\n",
    "# fig"
   ]
  },
  {
   "cell_type": "code",
   "execution_count": 43,
   "metadata": {
    "pycharm": {
     "name": "#%%\n"
    }
   },
   "outputs": [],
   "source": [
    "# import matplotlib as mpl\n",
    "# mpl.rcParams['figure.dpi'] = 400\n",
    "# font = {'family' : 'normal',\n",
    "#         'weight' : 'bold',\n",
    "#         'size'   : 30}\n",
    "#\n",
    "# plt.rcParams.update({'font.size': 30})\n",
    "# fig.set_size_inches(16, 10)\n",
    "# fig"
   ]
  },
  {
   "cell_type": "code",
   "execution_count": null,
   "metadata": {
    "pycharm": {
     "name": "#%%\n"
    }
   },
   "outputs": [],
   "source": []
  }
 ],
 "metadata": {
  "kernelspec": {
   "display_name": "Python 3",
   "language": "python",
   "name": "python3"
  },
  "language_info": {
   "codemirror_mode": {
    "name": "ipython",
    "version": 3
   },
   "file_extension": ".py",
   "mimetype": "text/x-python",
   "name": "python",
   "nbconvert_exporter": "python",
   "pygments_lexer": "ipython3",
   "version": "3.6.6"
  }
 },
 "nbformat": 4,
 "nbformat_minor": 1
}