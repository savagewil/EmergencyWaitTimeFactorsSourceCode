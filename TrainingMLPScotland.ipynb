{
 "cells": [
  {
   "cell_type": "code",
   "execution_count": 2,
   "outputs": [],
   "source": [
    "import pandas as pd\n",
    "from sklearn.neural_network import MLPRegressor\n",
    "from sklearn.metrics import mean_squared_error, mean_absolute_error\n",
    "import pickle"
   ],
   "metadata": {
    "collapsed": false,
    "pycharm": {
     "name": "#%%\n"
    }
   }
  },
  {
   "cell_type": "code",
   "execution_count": 3,
   "metadata": {
    "collapsed": true
   },
   "outputs": [],
   "source": [
    "training_data = pd.read_csv(\"Data/Scotland/scottish_data_training.csv\")\n",
    "training_labels = pd.read_csv(\"Data/Scotland/scottish_labels_training.csv\")"
   ]
  },
  {
   "cell_type": "code",
   "execution_count": 4,
   "outputs": [],
   "source": [
    "Y = training_labels.drop(columns = ['attendance', 'number_over_4_hours',\n",
    "       'number_over_8_hours', 'percentage_within_8_hours',\n",
    "       'number_over_12_hours', 'percentage_within_12_hours',\n",
    "       'number_under_4_hours', 'number_4_hours_8_hours',\n",
    "       'number_8_hours_12_hours', 'percentage_within_4_hours'])"
   ],
   "metadata": {
    "collapsed": false,
    "pycharm": {
     "name": "#%%\n"
    }
   }
  },
  {
   "cell_type": "code",
   "execution_count": 5,
   "outputs": [],
   "source": [
    "X = training_data\n",
    "X[\"region_east\"] = 1.0 *(X[\"region\"] == \"East\")\n",
    "X[\"region_west\"] =  1.0 *(X[\"region\"] == \"West\")\n",
    "X[\"region_north\"] =  1.0 *(X[\"region\"] == \"North\")\n",
    "X = X.drop(columns=[\"region\", \"moon_phase_name\"])\n",
    "for col in X.columns:\n",
    "    X[col] = X[col].astype(str).str.replace(',', '').astype(float)\n",
    "    if X[col].isna().any():\n",
    "        X[col] = X[col].fillna(0)"
   ],
   "metadata": {
    "collapsed": false,
    "pycharm": {
     "name": "#%%\n"
    }
   }
  },
  {
   "cell_type": "code",
   "execution_count": 6,
   "outputs": [],
   "source": [
    "model_4_hours = MLPRegressor(hidden_layer_sizes=(100, 100, 100, 100, 100, 100, 100, 100,), activation=\"tanh\")\n",
    "model_8_hours = MLPRegressor(hidden_layer_sizes=(100, 100, 100, 100, 100, 100, 100, 100,),activation=\"tanh\")\n",
    "model_12_hours = MLPRegressor(hidden_layer_sizes=(100, 100, 100, 100, 100, 100, 100, 100,),activation=\"tanh\")\n",
    "model_long_hours = MLPRegressor(hidden_layer_sizes=(100, 100, 100, 100, 100, 100, 100, 100,),activation=\"tanh\")\n"
   ],
   "metadata": {
    "collapsed": false,
    "pycharm": {
     "name": "#%%\n"
    }
   }
  },
  {
   "cell_type": "code",
   "execution_count": 7,
   "outputs": [
    {
     "data": {
      "text/plain": "MLPRegressor(activation='tanh',\n             hidden_layer_sizes=(100, 100, 100, 100, 100, 100, 100, 100))"
     },
     "execution_count": 7,
     "metadata": {},
     "output_type": "execute_result"
    }
   ],
   "source": [
    "model_4_hours.fit(X,Y.proportion_under_4_hours)\n",
    "model_8_hours.fit(X,Y.proportion_4_hours_8_hours)\n",
    "model_12_hours.fit(X,Y.proportion_8_hours_12_hours)\n",
    "model_long_hours.fit(X,Y.proportion_over_12_hours)\n"
   ],
   "metadata": {
    "collapsed": false,
    "pycharm": {
     "name": "#%%\n"
    }
   }
  },
  {
   "cell_type": "code",
   "execution_count": 8,
   "outputs": [
    {
     "data": {
      "text/plain": "(0.07772857489923564,\n 0.057926569696736034,\n 0.010128649486211078,\n 0.007379876555691441)"
     },
     "execution_count": 8,
     "metadata": {},
     "output_type": "execute_result"
    }
   ],
   "source": [
    "(mean_absolute_error(Y.proportion_under_4_hours, model_4_hours.predict(X)),\n",
    " mean_absolute_error(Y.proportion_4_hours_8_hours, model_8_hours.predict(X)),\n",
    " mean_absolute_error(Y.proportion_8_hours_12_hours, model_12_hours.predict(X)),\n",
    " mean_absolute_error(Y.proportion_over_12_hours, model_long_hours.predict(X)))"
   ],
   "metadata": {
    "collapsed": false,
    "pycharm": {
     "name": "#%%\n"
    }
   }
  },
  {
   "cell_type": "code",
   "execution_count": 9,
   "outputs": [],
   "source": [
    "testing_data = pd.read_csv(\"Data/Scotland/scottish_data_testing.csv\")\n",
    "testing_labels = pd.read_csv(\"Data/Scotland/scottish_labels_testing.csv\")"
   ],
   "metadata": {
    "collapsed": false,
    "pycharm": {
     "name": "#%%\n"
    }
   }
  },
  {
   "cell_type": "code",
   "execution_count": 10,
   "outputs": [],
   "source": [
    "Y_test = testing_labels.drop(columns = ['attendance', 'number_over_4_hours',\n",
    "       'number_over_8_hours', 'percentage_within_8_hours',\n",
    "       'number_over_12_hours', 'percentage_within_12_hours',\n",
    "       'number_under_4_hours', 'number_4_hours_8_hours',\n",
    "       'number_8_hours_12_hours', 'percentage_within_4_hours'])\n",
    "X_test = testing_data\n",
    "X_test[\"region_east\"] = 1.0 *(X_test[\"region\"] == \"East\")\n",
    "X_test[\"region_west\"] =  1.0 *(X_test[\"region\"] == \"West\")\n",
    "X_test[\"region_north\"] =  1.0 *(X_test[\"region\"] == \"North\")\n",
    "X_test = X_test.drop(columns=[\"region\", \"moon_phase_name\"])\n",
    "for col in X_test.columns:\n",
    "    X_test[col] = X_test[col].astype(str).str.replace(',', '').astype(float)\n",
    "    if X_test[col].isna().any():\n",
    "        X_test[col] = X_test[col].fillna(0)"
   ],
   "metadata": {
    "collapsed": false,
    "pycharm": {
     "name": "#%%\n"
    }
   }
  },
  {
   "cell_type": "code",
   "execution_count": 11,
   "outputs": [
    {
     "data": {
      "text/plain": "(-0.3695015038057152,\n -0.16210627600484884,\n -0.1376353705522131,\n -1.0278797187398223)"
     },
     "execution_count": 11,
     "metadata": {},
     "output_type": "execute_result"
    }
   ],
   "source": [
    "(model_4_hours.score(X_test,Y_test.proportion_under_4_hours),\n",
    " model_8_hours.score(X_test,Y_test.proportion_4_hours_8_hours),\n",
    " model_12_hours.score(X_test,Y_test.proportion_8_hours_12_hours),\n",
    " model_long_hours.score(X_test,Y_test.proportion_over_12_hours))"
   ],
   "metadata": {
    "collapsed": false,
    "pycharm": {
     "name": "#%%\n"
    }
   }
  },
  {
   "cell_type": "code",
   "execution_count": 12,
   "outputs": [
    {
     "data": {
      "text/plain": "(0.07752377164137333,\n 0.05735701190776209,\n 0.010054645612671153,\n 0.007316539265150512)"
     },
     "execution_count": 12,
     "metadata": {},
     "output_type": "execute_result"
    }
   ],
   "source": [
    "(mean_absolute_error(Y_test.proportion_under_4_hours, model_4_hours.predict(X_test)),\n",
    " mean_absolute_error(Y_test.proportion_4_hours_8_hours, model_8_hours.predict(X_test)),\n",
    " mean_absolute_error(Y_test.proportion_8_hours_12_hours, model_12_hours.predict(X_test)),\n",
    " mean_absolute_error(Y_test.proportion_over_12_hours, model_long_hours.predict(X_test)))"
   ],
   "metadata": {
    "collapsed": false,
    "pycharm": {
     "name": "#%%\n"
    }
   }
  },
  {
   "cell_type": "code",
   "execution_count": 13,
   "outputs": [
    {
     "data": {
      "text/plain": "(0.0714531556363753,\n 0.05792528787961585,\n 0.010133139711524585,\n 0.007391164104041847)"
     },
     "execution_count": 13,
     "metadata": {},
     "output_type": "execute_result"
    }
   ],
   "source": [
    "def divide_by_sum(tuple_):\n",
    "    sum_ = sum(tuple_)\n",
    "    return [e/sum_ for e in tuple_]\n",
    "normed_predictions = [list(l) for l in\n",
    "                      zip(*map(divide_by_sum,\n",
    "                               zip(model_4_hours.predict(X_test),\n",
    "                                   model_8_hours.predict(X_test),\n",
    "                                   model_12_hours.predict(X_test),\n",
    "                                   model_long_hours.predict(X_test))))\n",
    "                      ]\n",
    "(mean_absolute_error(Y_test.proportion_under_4_hours, normed_predictions[0]),\n",
    " mean_absolute_error(Y_test.proportion_4_hours_8_hours, normed_predictions[1]),\n",
    " mean_absolute_error(Y_test.proportion_8_hours_12_hours, normed_predictions[2]),\n",
    " mean_absolute_error(Y_test.proportion_over_12_hours, normed_predictions[3]))"
   ],
   "metadata": {
    "collapsed": false,
    "pycharm": {
     "name": "#%%\n"
    }
   }
  },
  {
   "cell_type": "code",
   "execution_count": 13,
   "outputs": [],
   "source": [],
   "metadata": {
    "collapsed": false,
    "pycharm": {
     "name": "#%%\n"
    }
   }
  },
  {
   "cell_type": "code",
   "execution_count": 14,
   "outputs": [
    {
     "name": "stdout",
     "output_type": "stream",
     "text": [
      "11750753\n"
     ]
    }
   ],
   "source": [
    "model_bytes = pickle.dumps((model_4_hours,\n",
    "                            model_8_hours,\n",
    "                            model_12_hours,\n",
    "                            model_long_hours))\n",
    "print(len(model_bytes))\n",
    "with open(\"Models/TrainingMLPScotlandModel.pkl\", 'wb') as save_file:\n",
    "    save_file.write(model_bytes)\n"
   ],
   "metadata": {
    "collapsed": false,
    "pycharm": {
     "name": "#%%\n"
    }
   }
  },
  {
   "cell_type": "code",
   "execution_count": 15,
   "outputs": [
    {
     "name": "stdout",
     "output_type": "stream",
     "text": [
      "11750753\n"
     ]
    }
   ],
   "source": [
    "model_4_hours_loaded,\\\n",
    "model_8_hours_loaded,\\\n",
    "model_12_hours_loaded,\\\n",
    "model_long_hours_loaded = None, None, None, None\n",
    "with open(\"Models/TrainingMLPScotlandModel.pkl\", 'rb') as save_file:\n",
    "    model_bytes = save_file.read()\n",
    "    print(len(model_bytes))\n",
    "    model_4_hours_loaded,\\\n",
    "    model_8_hours_loaded,\\\n",
    "    model_12_hours_loaded,\\\n",
    "    model_long_hours_loaded = pickle.loads(model_bytes)"
   ],
   "metadata": {
    "collapsed": false,
    "pycharm": {
     "name": "#%%\n"
    }
   }
  }
 ],
 "metadata": {
  "kernelspec": {
   "display_name": "Python 3",
   "language": "python",
   "name": "python3"
  },
  "language_info": {
   "codemirror_mode": {
    "name": "ipython",
    "version": 2
   },
   "file_extension": ".py",
   "mimetype": "text/x-python",
   "name": "python",
   "nbconvert_exporter": "python",
   "pygments_lexer": "ipython2",
   "version": "2.7.6"
  }
 },
 "nbformat": 4,
 "nbformat_minor": 0
}