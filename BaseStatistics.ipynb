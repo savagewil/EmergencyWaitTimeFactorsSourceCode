{
 "cells": [
  {
   "cell_type": "code",
   "execution_count": 2,
   "metadata": {
    "collapsed": true
   },
   "outputs": [],
   "source": [
    "import pandas as pd\n",
    "import numpy as np\n",
    "from sklearn.metrics import mean_absolute_error"
   ]
  },
  {
   "cell_type": "code",
   "execution_count": 3,
   "outputs": [],
   "source": [
    "training_data_us = pd.read_csv(\"Data/US/US_data_training.csv\")\n",
    "training_labels_us = pd.read_csv(\"Data/US/US_labels_training.csv\")\n",
    "training_data_sc = pd.read_csv(\"Data/Scotland/scottish_data_training.csv\")\n",
    "training_labels_sc = pd.read_csv(\"Data/Scotland/scottish_labels_training.csv\")"
   ],
   "metadata": {
    "collapsed": false,
    "pycharm": {
     "name": "#%%\n"
    }
   }
  },
  {
   "cell_type": "code",
   "execution_count": 4,
   "outputs": [],
   "source": [
    "testing_data_us = pd.read_csv(\"Data/US/US_data_testing.csv\")\n",
    "testing_labels_us = pd.read_csv(\"Data/US/US_labels_testing.csv\")\n",
    "testing_data_sc = pd.read_csv(\"Data/Scotland/scottish_data_testing.csv\")\n",
    "testing_labels_sc = pd.read_csv(\"Data/Scotland/scottish_labels_testing.csv\")"
   ],
   "metadata": {
    "collapsed": false,
    "pycharm": {
     "name": "#%%\n"
    }
   }
  },
  {
   "cell_type": "code",
   "execution_count": 5,
   "outputs": [
    {
     "data": {
      "text/plain": "count    2902.000000\nmean      147.198828\nstd        43.244438\nmin        54.000000\n25%       116.000000\n50%       143.000000\n75%       172.000000\nmax       344.000000\nName: OP_18b_score, dtype: float64"
     },
     "execution_count": 5,
     "metadata": {},
     "output_type": "execute_result"
    }
   ],
   "source": [
    "training_labels_us.OP_18b_score.describe()"
   ],
   "metadata": {
    "collapsed": false,
    "pycharm": {
     "name": "#%%\n"
    }
   }
  },
  {
   "cell_type": "code",
   "execution_count": 6,
   "outputs": [
    {
     "data": {
      "text/plain": "33.85565291362548"
     },
     "execution_count": 6,
     "metadata": {},
     "output_type": "execute_result"
    }
   ],
   "source": [
    "mean_absolute_error(training_labels_us.OP_18b_score, np.ones_like(training_labels_us.OP_18b_score) * training_labels_us.OP_18b_score.mean())"
   ],
   "metadata": {
    "collapsed": false,
    "pycharm": {
     "name": "#%%\n"
    }
   }
  },
  {
   "cell_type": "code",
   "execution_count": 7,
   "outputs": [
    {
     "data": {
      "text/plain": "36.103571584525156"
     },
     "execution_count": 7,
     "metadata": {},
     "output_type": "execute_result"
    }
   ],
   "source": [
    "mean_absolute_error(testing_labels_us.OP_18b_score, np.ones_like(testing_labels_us.OP_18b_score) * training_labels_us.OP_18b_score.mean())"
   ],
   "metadata": {
    "collapsed": false,
    "pycharm": {
     "name": "#%%\n"
    }
   }
  },
  {
   "cell_type": "code",
   "execution_count": 8,
   "outputs": [
    {
     "data": {
      "text/plain": "count    7214.000000\nmean        0.919134\nstd         0.078661\nmin         0.410454\n25%         0.895013\n50%         0.943535\n75%         0.972659\nmax         1.000000\nName: proportion_under_4_hours, dtype: float64"
     },
     "execution_count": 8,
     "metadata": {},
     "output_type": "execute_result"
    }
   ],
   "source": [
    "training_labels_sc.proportion_under_4_hours.describe()"
   ],
   "metadata": {
    "collapsed": false,
    "pycharm": {
     "name": "#%%\n"
    }
   }
  },
  {
   "cell_type": "code",
   "execution_count": 20,
   "outputs": [
    {
     "data": {
      "text/plain": "5.66420670680743"
     },
     "execution_count": 20,
     "metadata": {},
     "output_type": "execute_result"
    }
   ],
   "source": [
    "mean_absolute_error(training_labels_sc.proportion_under_4_hours, np.ones_like(training_labels_sc.proportion_under_4_hours) * training_labels_sc.proportion_under_4_hours.mean())* 1e2"
   ],
   "metadata": {
    "collapsed": false,
    "pycharm": {
     "name": "#%%\n"
    }
   }
  },
  {
   "cell_type": "code",
   "execution_count": 10,
   "outputs": [
    {
     "data": {
      "text/plain": "5.580418454983689"
     },
     "execution_count": 10,
     "metadata": {},
     "output_type": "execute_result"
    }
   ],
   "source": [
    "mean_absolute_error(testing_labels_sc.proportion_under_4_hours, np.ones_like(testing_labels_sc.proportion_under_4_hours) * training_labels_sc.proportion_under_4_hours.mean()) * 1e2"
   ],
   "metadata": {
    "collapsed": false,
    "pycharm": {
     "name": "#%%\n"
    }
   }
  },
  {
   "cell_type": "code",
   "execution_count": 11,
   "outputs": [
    {
     "data": {
      "text/plain": "count    7214.000000\nmean        0.072741\nstd         0.064680\nmin         0.000000\n25%         0.026563\n50%         0.053831\n75%         0.096927\nmax         0.439589\nName: proportion_4_hours_8_hours, dtype: float64"
     },
     "execution_count": 11,
     "metadata": {},
     "output_type": "execute_result"
    }
   ],
   "source": [
    "training_labels_sc.proportion_4_hours_8_hours.describe()"
   ],
   "metadata": {
    "collapsed": false,
    "pycharm": {
     "name": "#%%\n"
    }
   }
  },
  {
   "cell_type": "code",
   "execution_count": 21,
   "outputs": [
    {
     "data": {
      "text/plain": "4.836345652254625"
     },
     "execution_count": 21,
     "metadata": {},
     "output_type": "execute_result"
    }
   ],
   "source": [
    "mean_absolute_error(training_labels_sc.proportion_4_hours_8_hours, np.ones_like(training_labels_sc.proportion_4_hours_8_hours) * training_labels_sc.proportion_4_hours_8_hours.mean()) * 1e2"
   ],
   "metadata": {
    "collapsed": false,
    "pycharm": {
     "name": "#%%\n"
    }
   }
  },
  {
   "cell_type": "code",
   "execution_count": 22,
   "outputs": [
    {
     "data": {
      "text/plain": "4.769163126169137"
     },
     "execution_count": 22,
     "metadata": {},
     "output_type": "execute_result"
    }
   ],
   "source": [
    "mean_absolute_error(testing_labels_sc.proportion_4_hours_8_hours, np.ones_like(testing_labels_sc.proportion_4_hours_8_hours) * training_labels_sc.proportion_4_hours_8_hours.mean()) * 1e2"
   ],
   "metadata": {
    "collapsed": false,
    "pycharm": {
     "name": "#%%\n"
    }
   }
  },
  {
   "cell_type": "code",
   "execution_count": 14,
   "outputs": [
    {
     "data": {
      "text/plain": "count    7214.000000\nmean        0.006450\nstd         0.013004\nmin         0.000000\n25%         0.000000\n50%         0.001520\n75%         0.007092\nmax         0.140805\nName: proportion_8_hours_12_hours, dtype: float64"
     },
     "execution_count": 14,
     "metadata": {},
     "output_type": "execute_result"
    }
   ],
   "source": [
    "training_labels_sc.proportion_8_hours_12_hours.describe()"
   ],
   "metadata": {
    "collapsed": false,
    "pycharm": {
     "name": "#%%\n"
    }
   }
  },
  {
   "cell_type": "code",
   "execution_count": 25,
   "outputs": [
    {
     "data": {
      "text/plain": "7.688012496454307"
     },
     "execution_count": 25,
     "metadata": {},
     "output_type": "execute_result"
    }
   ],
   "source": [
    "mean_absolute_error(training_labels_sc.proportion_8_hours_12_hours, np.ones_like(training_labels_sc.proportion_8_hours_12_hours) * training_labels_sc.proportion_8_hours_12_hours.mean())  * 1e3"
   ],
   "metadata": {
    "collapsed": false,
    "pycharm": {
     "name": "#%%\n"
    }
   }
  },
  {
   "cell_type": "code",
   "execution_count": 26,
   "outputs": [
    {
     "data": {
      "text/plain": "7.662062079379385"
     },
     "execution_count": 26,
     "metadata": {},
     "output_type": "execute_result"
    }
   ],
   "source": [
    "mean_absolute_error(testing_labels_sc.proportion_8_hours_12_hours, np.ones_like(testing_labels_sc.proportion_8_hours_12_hours) * training_labels_sc.proportion_8_hours_12_hours.mean()) * 1e3"
   ],
   "metadata": {
    "collapsed": false,
    "pycharm": {
     "name": "#%%\n"
    }
   }
  },
  {
   "cell_type": "code",
   "execution_count": 17,
   "outputs": [
    {
     "data": {
      "text/plain": "count    7214.000000\nmean        0.001675\nstd         0.006586\nmin         0.000000\n25%         0.000000\n50%         0.000000\n75%         0.000000\nmax         0.116034\nName: proportion_over_12_hours, dtype: float64"
     },
     "execution_count": 17,
     "metadata": {},
     "output_type": "execute_result"
    }
   ],
   "source": [
    "training_labels_sc.proportion_over_12_hours.describe()"
   ],
   "metadata": {
    "collapsed": false,
    "pycharm": {
     "name": "#%%\n"
    }
   }
  },
  {
   "cell_type": "code",
   "execution_count": 27,
   "outputs": [
    {
     "data": {
      "text/plain": "2.7180827578551847"
     },
     "execution_count": 27,
     "metadata": {},
     "output_type": "execute_result"
    }
   ],
   "source": [
    "mean_absolute_error(training_labels_sc.proportion_over_12_hours, np.ones_like(training_labels_sc.proportion_over_12_hours) * training_labels_sc.proportion_over_12_hours.mean()) *1e3"
   ],
   "metadata": {
    "collapsed": false,
    "pycharm": {
     "name": "#%%\n"
    }
   }
  },
  {
   "cell_type": "code",
   "execution_count": 28,
   "outputs": [
    {
     "data": {
      "text/plain": "2.564418580273936"
     },
     "execution_count": 28,
     "metadata": {},
     "output_type": "execute_result"
    }
   ],
   "source": [
    "mean_absolute_error(testing_labels_sc.proportion_over_12_hours, np.ones_like(testing_labels_sc.proportion_over_12_hours) * training_labels_sc.proportion_over_12_hours.mean())*1e3"
   ],
   "metadata": {
    "collapsed": false,
    "pycharm": {
     "name": "#%%\n"
    }
   }
  },
  {
   "cell_type": "code",
   "execution_count": 19,
   "outputs": [],
   "source": [],
   "metadata": {
    "collapsed": false,
    "pycharm": {
     "name": "#%%\n"
    }
   }
  },
  {
   "cell_type": "code",
   "execution_count": 19,
   "outputs": [],
   "source": [],
   "metadata": {
    "collapsed": false,
    "pycharm": {
     "name": "#%%\n"
    }
   }
  }
 ],
 "metadata": {
  "kernelspec": {
   "display_name": "Python 3",
   "language": "python",
   "name": "python3"
  },
  "language_info": {
   "codemirror_mode": {
    "name": "ipython",
    "version": 2
   },
   "file_extension": ".py",
   "mimetype": "text/x-python",
   "name": "python",
   "nbconvert_exporter": "python",
   "pygments_lexer": "ipython2",
   "version": "2.7.6"
  }
 },
 "nbformat": 4,
 "nbformat_minor": 0
}