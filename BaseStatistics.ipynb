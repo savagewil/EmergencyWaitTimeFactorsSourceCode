{
 "cells": [
  {
   "cell_type": "code",
   "execution_count": 8,
   "metadata": {
    "collapsed": true
   },
   "outputs": [],
   "source": [
    "import pandas as pd\n",
    "import numpy as np\n",
    "from sklearn.metrics import mean_absolute_error"
   ]
  },
  {
   "cell_type": "code",
   "execution_count": null,
   "outputs": [],
   "source": [
    "training_data_us = pd.read_csv(\"Data/US/US_data_training.csv\")\n",
    "training_labels_us = pd.read_csv(\"Data/US/US_labels_training.csv\")\n",
    "training_data_sc = pd.read_csv(\"Data/Scotland/scottish_data_training.csv\")\n",
    "training_labels_sc = pd.read_csv(\"Data/Scotland/scottish_labels_training.csv\")"
   ],
   "metadata": {
    "collapsed": false,
    "pycharm": {
     "name": "#%%\n"
    }
   }
  },
  {
   "cell_type": "code",
   "execution_count": 14,
   "outputs": [],
   "source": [
    "testing_data_us = pd.read_csv(\"Data/US/US_data_testing.csv\")\n",
    "testing_labels_us = pd.read_csv(\"Data/US/US_labels_testing.csv\")\n",
    "testing_data_sc = pd.read_csv(\"Data/Scotland/scottish_data_testing.csv\")\n",
    "testing_labels_sc = pd.read_csv(\"Data/Scotland/scottish_labels_testing.csv\")"
   ],
   "metadata": {
    "collapsed": false,
    "pycharm": {
     "name": "#%%\n"
    }
   }
  },
  {
   "cell_type": "code",
   "execution_count": 3,
   "outputs": [
    {
     "data": {
      "text/plain": "count    2902.000000\nmean      148.608546\nstd        44.085981\nmin        54.000000\n25%       116.000000\n50%       144.000000\n75%       174.750000\nmax       338.000000\nName: OP_18b_score, dtype: float64"
     },
     "execution_count": 3,
     "metadata": {},
     "output_type": "execute_result"
    }
   ],
   "source": [
    "training_labels_us.OP_18b_score.describe()"
   ],
   "metadata": {
    "collapsed": false,
    "pycharm": {
     "name": "#%%\n"
    }
   }
  },
  {
   "cell_type": "code",
   "execution_count": 9,
   "outputs": [
    {
     "data": {
      "text/plain": "34.51833973670574"
     },
     "execution_count": 9,
     "metadata": {},
     "output_type": "execute_result"
    }
   ],
   "source": [
    "mean_absolute_error(training_labels_us.OP_18b_score, np.ones_like(training_labels_us.OP_18b_score) * training_labels_us.OP_18b_score.mean())"
   ],
   "metadata": {
    "collapsed": false,
    "pycharm": {
     "name": "#%%\n"
    }
   }
  },
  {
   "cell_type": "code",
   "execution_count": 16,
   "outputs": [
    {
     "data": {
      "text/plain": "34.02603410206318"
     },
     "execution_count": 16,
     "metadata": {},
     "output_type": "execute_result"
    }
   ],
   "source": [
    "mean_absolute_error(testing_labels_us.OP_18b_score, np.ones_like(testing_labels_us.OP_18b_score) * training_labels_us.OP_18b_score.mean())"
   ],
   "metadata": {
    "collapsed": false,
    "pycharm": {
     "name": "#%%\n"
    }
   }
  },
  {
   "cell_type": "code",
   "execution_count": 4,
   "outputs": [
    {
     "data": {
      "text/plain": "count    7214.000000\nmean        0.919134\nstd         0.078661\nmin         0.410454\n25%         0.895013\n50%         0.943535\n75%         0.972659\nmax         1.000000\nName: proportion_under_4_hours, dtype: float64"
     },
     "execution_count": 4,
     "metadata": {},
     "output_type": "execute_result"
    }
   ],
   "source": [
    "training_labels_sc.proportion_under_4_hours.describe()"
   ],
   "metadata": {
    "collapsed": false,
    "pycharm": {
     "name": "#%%\n"
    }
   }
  },
  {
   "cell_type": "code",
   "execution_count": 10,
   "outputs": [
    {
     "data": {
      "text/plain": "0.05664206706807431"
     },
     "execution_count": 10,
     "metadata": {},
     "output_type": "execute_result"
    }
   ],
   "source": [
    "mean_absolute_error(training_labels_sc.proportion_under_4_hours, np.ones_like(training_labels_sc.proportion_under_4_hours) * training_labels_sc.proportion_under_4_hours.mean())"
   ],
   "metadata": {
    "collapsed": false,
    "pycharm": {
     "name": "#%%\n"
    }
   }
  },
  {
   "cell_type": "code",
   "execution_count": 17,
   "outputs": [
    {
     "data": {
      "text/plain": "0.055804184549836884"
     },
     "execution_count": 17,
     "metadata": {},
     "output_type": "execute_result"
    }
   ],
   "source": [
    "mean_absolute_error(testing_labels_sc.proportion_under_4_hours, np.ones_like(testing_labels_sc.proportion_under_4_hours) * training_labels_sc.proportion_under_4_hours.mean())"
   ],
   "metadata": {
    "collapsed": false,
    "pycharm": {
     "name": "#%%\n"
    }
   }
  },
  {
   "cell_type": "code",
   "execution_count": 5,
   "outputs": [
    {
     "data": {
      "text/plain": "count    7214.000000\nmean        0.072741\nstd         0.064680\nmin         0.000000\n25%         0.026563\n50%         0.053831\n75%         0.096927\nmax         0.439589\nName: proportion_4_hours_8_hours, dtype: float64"
     },
     "execution_count": 5,
     "metadata": {},
     "output_type": "execute_result"
    }
   ],
   "source": [
    "training_labels_sc.proportion_4_hours_8_hours.describe()"
   ],
   "metadata": {
    "collapsed": false,
    "pycharm": {
     "name": "#%%\n"
    }
   }
  },
  {
   "cell_type": "code",
   "execution_count": 11,
   "outputs": [
    {
     "data": {
      "text/plain": "0.048363456522546255"
     },
     "execution_count": 11,
     "metadata": {},
     "output_type": "execute_result"
    }
   ],
   "source": [
    "mean_absolute_error(training_labels_sc.proportion_4_hours_8_hours, np.ones_like(training_labels_sc.proportion_4_hours_8_hours) * training_labels_sc.proportion_4_hours_8_hours.mean())"
   ],
   "metadata": {
    "collapsed": false,
    "pycharm": {
     "name": "#%%\n"
    }
   }
  },
  {
   "cell_type": "code",
   "execution_count": 18,
   "outputs": [
    {
     "data": {
      "text/plain": "0.047691631261691375"
     },
     "execution_count": 18,
     "metadata": {},
     "output_type": "execute_result"
    }
   ],
   "source": [
    "mean_absolute_error(testing_labels_sc.proportion_4_hours_8_hours, np.ones_like(testing_labels_sc.proportion_4_hours_8_hours) * training_labels_sc.proportion_4_hours_8_hours.mean())"
   ],
   "metadata": {
    "collapsed": false,
    "pycharm": {
     "name": "#%%\n"
    }
   }
  },
  {
   "cell_type": "code",
   "execution_count": 6,
   "outputs": [
    {
     "data": {
      "text/plain": "count    7214.000000\nmean        0.006450\nstd         0.013004\nmin         0.000000\n25%         0.000000\n50%         0.001520\n75%         0.007092\nmax         0.140805\nName: proportion_8_hours_12_hours, dtype: float64"
     },
     "execution_count": 6,
     "metadata": {},
     "output_type": "execute_result"
    }
   ],
   "source": [
    "training_labels_sc.proportion_8_hours_12_hours.describe()"
   ],
   "metadata": {
    "collapsed": false,
    "pycharm": {
     "name": "#%%\n"
    }
   }
  },
  {
   "cell_type": "code",
   "execution_count": 12,
   "outputs": [
    {
     "data": {
      "text/plain": "0.007688012496454307"
     },
     "execution_count": 12,
     "metadata": {},
     "output_type": "execute_result"
    }
   ],
   "source": [
    "mean_absolute_error(training_labels_sc.proportion_8_hours_12_hours, np.ones_like(training_labels_sc.proportion_8_hours_12_hours) * training_labels_sc.proportion_8_hours_12_hours.mean())"
   ],
   "metadata": {
    "collapsed": false,
    "pycharm": {
     "name": "#%%\n"
    }
   }
  },
  {
   "cell_type": "code",
   "execution_count": 20,
   "outputs": [
    {
     "data": {
      "text/plain": "0.007662062079379386"
     },
     "execution_count": 20,
     "metadata": {},
     "output_type": "execute_result"
    }
   ],
   "source": [
    "mean_absolute_error(testing_labels_sc.proportion_8_hours_12_hours, np.ones_like(testing_labels_sc.proportion_8_hours_12_hours) * training_labels_sc.proportion_8_hours_12_hours.mean())"
   ],
   "metadata": {
    "collapsed": false,
    "pycharm": {
     "name": "#%%\n"
    }
   }
  },
  {
   "cell_type": "code",
   "execution_count": 7,
   "outputs": [
    {
     "data": {
      "text/plain": "count    7214.000000\nmean        0.001675\nstd         0.006586\nmin         0.000000\n25%         0.000000\n50%         0.000000\n75%         0.000000\nmax         0.116034\nName: proportion_over_12_hours, dtype: float64"
     },
     "execution_count": 7,
     "metadata": {},
     "output_type": "execute_result"
    }
   ],
   "source": [
    "training_labels_sc.proportion_over_12_hours.describe()"
   ],
   "metadata": {
    "collapsed": false,
    "pycharm": {
     "name": "#%%\n"
    }
   }
  },
  {
   "cell_type": "code",
   "execution_count": 13,
   "outputs": [
    {
     "data": {
      "text/plain": "0.0027180827578551846"
     },
     "execution_count": 13,
     "metadata": {},
     "output_type": "execute_result"
    }
   ],
   "source": [
    "mean_absolute_error(training_labels_sc.proportion_over_12_hours, np.ones_like(training_labels_sc.proportion_over_12_hours) * training_labels_sc.proportion_over_12_hours.mean())"
   ],
   "metadata": {
    "collapsed": false,
    "pycharm": {
     "name": "#%%\n"
    }
   }
  },
  {
   "cell_type": "code",
   "execution_count": 21,
   "outputs": [
    {
     "data": {
      "text/plain": "0.002564418580273936"
     },
     "execution_count": 21,
     "metadata": {},
     "output_type": "execute_result"
    }
   ],
   "source": [
    "mean_absolute_error(testing_labels_sc.proportion_over_12_hours, np.ones_like(testing_labels_sc.proportion_over_12_hours) * training_labels_sc.proportion_over_12_hours.mean())"
   ],
   "metadata": {
    "collapsed": false,
    "pycharm": {
     "name": "#%%\n"
    }
   }
  },
  {
   "cell_type": "code",
   "execution_count": null,
   "outputs": [],
   "source": [],
   "metadata": {
    "collapsed": false,
    "pycharm": {
     "name": "#%%\n"
    }
   }
  },
  {
   "cell_type": "code",
   "execution_count": 19,
   "outputs": [
    {
     "data": {
      "text/plain": "(0.039550948373206864,\n 0.03320514897340142,\n 0.006202817816597094,\n 0.0024712806191527054)"
     },
     "execution_count": 19,
     "metadata": {},
     "output_type": "execute_result"
    }
   ],
   "source": [],
   "metadata": {
    "collapsed": false,
    "pycharm": {
     "name": "#%%\n"
    }
   }
  }
 ],
 "metadata": {
  "kernelspec": {
   "display_name": "Python 3",
   "language": "python",
   "name": "python3"
  },
  "language_info": {
   "codemirror_mode": {
    "name": "ipython",
    "version": 2
   },
   "file_extension": ".py",
   "mimetype": "text/x-python",
   "name": "python",
   "nbconvert_exporter": "python",
   "pygments_lexer": "ipython2",
   "version": "2.7.6"
  }
 },
 "nbformat": 4,
 "nbformat_minor": 0
}